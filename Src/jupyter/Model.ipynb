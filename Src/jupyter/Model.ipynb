{
 "cells": [
  {
   "cell_type": "code",
   "execution_count": null,
   "metadata": {},
   "outputs": [],
   "source": [
    "from torch import nn"
   ]
  },
  {
   "cell_type": "markdown",
   "metadata": {},
   "source": [
    "## My_Model"
   ]
  },
  {
   "cell_type": "code",
   "execution_count": null,
   "metadata": {},
   "outputs": [],
   "source": [
    "class ConvUnit(nn.Module):\n",
    "    def __init__(self, input_size, output_size, kernel_size, padding):\n",
    "        super(ConvUnit, self).__init__()\n",
    "        self.conv1 = nn.Conv2d(input_size, output_size, kernel_size=kernel_size, padding=padding)\n",
    "        self.conv2 = nn.Conv2d(output_size, output_size, kernel_size=kernel_size, padding=padding)\n",
    "        self.conv3 = nn.Conv2d(output_size, output_size, kernel_size=kernel_size, padding=padding)\n",
    "        self.prelu  = nn.PReLU()\n",
    "        \n",
    "    def forward(self, x):\n",
    "        x = self.conv1(x)\n",
    "        x = self.conv2(x)\n",
    "        x = self.prelu(x)\n",
    "        x = self.conv3(x)\n",
    "        x = self.prelu(x)\n",
    "        \n",
    "        return x"
   ]
  },
  {
   "cell_type": "code",
   "execution_count": null,
   "metadata": {},
   "outputs": [],
   "source": [
    "class My_Model(nn.Module):\n",
    "    def __init__(self):\n",
    "        super(My_Model, self).__init__()\n",
    "        self.convUnit1 = ConvUnit(input_size=3, output_size=128, kernel_size=3, padding=1)\n",
    "        self.convUnit2 = ConvUnit(input_size=128, output_size=64, kernel_size=3, padding=1)\n",
    "        self.convUnit3 = ConvUnit(input_size=64, output_size=32, kernel_size=3, padding=1)\n",
    "        self.conv1 = nn.Conv2d(32, 16, kernel_size=1)\n",
    "        self.conv2 = nn.Conv2d(16, 3, kernel_size=5, padding=2)\n",
    "        self.prelu  = nn.PReLU()\n",
    "\n",
    "        self._initialize_weights()\n",
    "\n",
    "    def _initialize_weights(self):\n",
    "        for m in self.modules():\n",
    "            if isinstance(m, nn.Conv2d):\n",
    "                nn.init.normal_(m.weight, std=0.001)\n",
    "\n",
    "    def forward(self, x):\n",
    "        x = self.convUnit1(x)\n",
    "        x = self.convUnit2(x)\n",
    "        x = self.convUnit3(x)\n",
    "        x = self.conv1(x)\n",
    "        x = self.prelu(x)\n",
    "        x = self.conv2(x)\n",
    "        return x\n"
   ]
  }
 ],
 "metadata": {
  "kernelspec": {
   "display_name": "Python 3",
   "language": "python",
   "name": "python3"
  },
  "language_info": {
   "codemirror_mode": {
    "name": "ipython",
    "version": 3
   },
   "file_extension": ".py",
   "mimetype": "text/x-python",
   "name": "python",
   "nbconvert_exporter": "python",
   "pygments_lexer": "ipython3",
   "version": "3.6.9"
  }
 },
 "nbformat": 4,
 "nbformat_minor": 2
}
