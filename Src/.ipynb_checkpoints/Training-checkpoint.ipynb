{
 "cells": [
  {
   "cell_type": "code",
   "execution_count": null,
   "metadata": {},
   "outputs": [],
   "source": [
    "from torch.utils.data.dataloader import DataLoader\n",
    "from tensorboardX import SummaryWriter\n",
    "import torch.backends.cudnn as cudnn\n",
    "import torch.optim as optim\n",
    "from tqdm import tqdm\n",
    "import torch\n",
    "import os\n",
    "\n",
    "%run Model.ipynb\n",
    "%run DataLoader.ipynb\n",
    "\n",
    "cudnn.benchmark = True\n",
    "device = torch.device(\"cuda:0\" if torch.cuda.is_available() else \"cpu\")"
   ]
  },
  {
   "cell_type": "code",
   "execution_count": 3,
   "metadata": {
    "scrolled": true
   },
   "outputs": [
    {
     "name": "stderr",
     "output_type": "stream",
     "text": [
      "epoch: 1/100: 100%|██████████| 1296/1296 [00:28<00:00, 44.99it/s, loss=20654.657272, target1114.252736]\n",
      "epoch: 2/100: 100%|██████████| 1296/1296 [00:31<00:00, 40.81it/s, loss=9594.526415, target1116.258057] \n",
      "epoch: 3/100: 100%|██████████| 1296/1296 [00:32<00:00, 40.44it/s, loss=7011.711272, target1109.246432]\n",
      "epoch: 4/100: 100%|██████████| 1296/1296 [00:34<00:00, 37.74it/s, loss=6854.404744, target1099.734469]\n",
      "epoch: 5/100: 100%|██████████| 1296/1296 [00:33<00:00, 38.54it/s, loss=6576.793816, target1121.778900]\n",
      "epoch: 6/100: 100%|██████████| 1296/1296 [00:33<00:00, 38.24it/s, loss=6346.408656, target1116.162322]\n",
      "epoch: 7/100: 100%|██████████| 1296/1296 [00:34<00:00, 38.03it/s, loss=7303.589630, target1113.969589]\n",
      "epoch: 8/100: 100%|██████████| 1296/1296 [00:33<00:00, 38.83it/s, loss=6229.056395, target1130.198233]\n",
      "epoch: 9/100: 100%|██████████| 1296/1296 [00:34<00:00, 38.07it/s, loss=5582.721862, target1084.473521]\n",
      "epoch: 10/100: 100%|██████████| 1296/1296 [00:35<00:00, 36.87it/s, loss=5319.788277, target1131.721588]\n",
      "epoch: 11/100: 100%|██████████| 1296/1296 [00:35<00:00, 36.11it/s, loss=5032.275434, target1118.914473]\n",
      "epoch: 12/100:  25%|██▌       | 328/1296 [00:08<00:23, 40.35it/s, loss=5511.912502, target1163.956052]\n"
     ]
    },
    {
     "ename": "KeyboardInterrupt",
     "evalue": "",
     "output_type": "error",
     "traceback": [
      "\u001b[0;31m---------------------------------------------------------------------------\u001b[0m",
      "\u001b[0;31mKeyboardInterrupt\u001b[0m                         Traceback (most recent call last)",
      "\u001b[0;32m<ipython-input-3-d6ec7bee8f09>\u001b[0m in \u001b[0;36m<module>\u001b[0;34m\u001b[0m\n\u001b[1;32m     48\u001b[0m             \u001b[0mpreds\u001b[0m \u001b[0;34m=\u001b[0m \u001b[0mmodel\u001b[0m\u001b[0;34m(\u001b[0m\u001b[0minputs\u001b[0m\u001b[0;34m)\u001b[0m\u001b[0;34m\u001b[0m\u001b[0;34m\u001b[0m\u001b[0m\n\u001b[1;32m     49\u001b[0m \u001b[0;34m\u001b[0m\u001b[0m\n\u001b[0;32m---> 50\u001b[0;31m             \u001b[0mloss\u001b[0m \u001b[0;34m=\u001b[0m \u001b[0mcriterion\u001b[0m\u001b[0;34m(\u001b[0m\u001b[0mpreds\u001b[0m\u001b[0;34m,\u001b[0m \u001b[0mlabels\u001b[0m\u001b[0;34m)\u001b[0m\u001b[0;34m\u001b[0m\u001b[0;34m\u001b[0m\u001b[0m\n\u001b[0m\u001b[1;32m     51\u001b[0m             \u001b[0mtarget\u001b[0m \u001b[0;34m=\u001b[0m \u001b[0mcriterion\u001b[0m\u001b[0;34m(\u001b[0m\u001b[0minputs\u001b[0m\u001b[0;34m,\u001b[0m \u001b[0mlabels\u001b[0m\u001b[0;34m)\u001b[0m\u001b[0;34m\u001b[0m\u001b[0;34m\u001b[0m\u001b[0m\n\u001b[1;32m     52\u001b[0m             \u001b[0mtrain_losses\u001b[0m\u001b[0;34m.\u001b[0m\u001b[0mupdate\u001b[0m\u001b[0;34m(\u001b[0m\u001b[0mloss\u001b[0m\u001b[0;34m.\u001b[0m\u001b[0mitem\u001b[0m\u001b[0;34m(\u001b[0m\u001b[0;34m)\u001b[0m\u001b[0;34m,\u001b[0m \u001b[0mlen\u001b[0m\u001b[0;34m(\u001b[0m\u001b[0minputs\u001b[0m\u001b[0;34m)\u001b[0m\u001b[0;34m)\u001b[0m\u001b[0;34m\u001b[0m\u001b[0;34m\u001b[0m\u001b[0m\n",
      "\u001b[0;32m~/anaconda3/envs/py36/lib/python3.6/site-packages/torch/nn/modules/module.py\u001b[0m in \u001b[0;36m__call__\u001b[0;34m(self, *input, **kwargs)\u001b[0m\n\u001b[1;32m    539\u001b[0m             \u001b[0mresult\u001b[0m \u001b[0;34m=\u001b[0m \u001b[0mself\u001b[0m\u001b[0;34m.\u001b[0m\u001b[0m_slow_forward\u001b[0m\u001b[0;34m(\u001b[0m\u001b[0;34m*\u001b[0m\u001b[0minput\u001b[0m\u001b[0;34m,\u001b[0m \u001b[0;34m**\u001b[0m\u001b[0mkwargs\u001b[0m\u001b[0;34m)\u001b[0m\u001b[0;34m\u001b[0m\u001b[0;34m\u001b[0m\u001b[0m\n\u001b[1;32m    540\u001b[0m         \u001b[0;32melse\u001b[0m\u001b[0;34m:\u001b[0m\u001b[0;34m\u001b[0m\u001b[0;34m\u001b[0m\u001b[0m\n\u001b[0;32m--> 541\u001b[0;31m             \u001b[0mresult\u001b[0m \u001b[0;34m=\u001b[0m \u001b[0mself\u001b[0m\u001b[0;34m.\u001b[0m\u001b[0mforward\u001b[0m\u001b[0;34m(\u001b[0m\u001b[0;34m*\u001b[0m\u001b[0minput\u001b[0m\u001b[0;34m,\u001b[0m \u001b[0;34m**\u001b[0m\u001b[0mkwargs\u001b[0m\u001b[0;34m)\u001b[0m\u001b[0;34m\u001b[0m\u001b[0;34m\u001b[0m\u001b[0m\n\u001b[0m\u001b[1;32m    542\u001b[0m         \u001b[0;32mfor\u001b[0m \u001b[0mhook\u001b[0m \u001b[0;32min\u001b[0m \u001b[0mself\u001b[0m\u001b[0;34m.\u001b[0m\u001b[0m_forward_hooks\u001b[0m\u001b[0;34m.\u001b[0m\u001b[0mvalues\u001b[0m\u001b[0;34m(\u001b[0m\u001b[0;34m)\u001b[0m\u001b[0;34m:\u001b[0m\u001b[0;34m\u001b[0m\u001b[0;34m\u001b[0m\u001b[0m\n\u001b[1;32m    543\u001b[0m             \u001b[0mhook_result\u001b[0m \u001b[0;34m=\u001b[0m \u001b[0mhook\u001b[0m\u001b[0;34m(\u001b[0m\u001b[0mself\u001b[0m\u001b[0;34m,\u001b[0m \u001b[0minput\u001b[0m\u001b[0;34m,\u001b[0m \u001b[0mresult\u001b[0m\u001b[0;34m)\u001b[0m\u001b[0;34m\u001b[0m\u001b[0;34m\u001b[0m\u001b[0m\n",
      "\u001b[0;32m~/anaconda3/envs/py36/lib/python3.6/site-packages/torch/nn/modules/loss.py\u001b[0m in \u001b[0;36mforward\u001b[0;34m(self, input, target)\u001b[0m\n\u001b[1;32m    429\u001b[0m \u001b[0;34m\u001b[0m\u001b[0m\n\u001b[1;32m    430\u001b[0m     \u001b[0;32mdef\u001b[0m \u001b[0mforward\u001b[0m\u001b[0;34m(\u001b[0m\u001b[0mself\u001b[0m\u001b[0;34m,\u001b[0m \u001b[0minput\u001b[0m\u001b[0;34m,\u001b[0m \u001b[0mtarget\u001b[0m\u001b[0;34m)\u001b[0m\u001b[0;34m:\u001b[0m\u001b[0;34m\u001b[0m\u001b[0;34m\u001b[0m\u001b[0m\n\u001b[0;32m--> 431\u001b[0;31m         \u001b[0;32mreturn\u001b[0m \u001b[0mF\u001b[0m\u001b[0;34m.\u001b[0m\u001b[0mmse_loss\u001b[0m\u001b[0;34m(\u001b[0m\u001b[0minput\u001b[0m\u001b[0;34m,\u001b[0m \u001b[0mtarget\u001b[0m\u001b[0;34m,\u001b[0m \u001b[0mreduction\u001b[0m\u001b[0;34m=\u001b[0m\u001b[0mself\u001b[0m\u001b[0;34m.\u001b[0m\u001b[0mreduction\u001b[0m\u001b[0;34m)\u001b[0m\u001b[0;34m\u001b[0m\u001b[0;34m\u001b[0m\u001b[0m\n\u001b[0m\u001b[1;32m    432\u001b[0m \u001b[0;34m\u001b[0m\u001b[0m\n\u001b[1;32m    433\u001b[0m \u001b[0;34m\u001b[0m\u001b[0m\n",
      "\u001b[0;32m~/anaconda3/envs/py36/lib/python3.6/site-packages/torch/nn/functional.py\u001b[0m in \u001b[0;36mmse_loss\u001b[0;34m(input, target, size_average, reduce, reduction)\u001b[0m\n\u001b[1;32m   2202\u001b[0m     \u001b[0;32melse\u001b[0m\u001b[0;34m:\u001b[0m\u001b[0;34m\u001b[0m\u001b[0;34m\u001b[0m\u001b[0m\n\u001b[1;32m   2203\u001b[0m         \u001b[0mexpanded_input\u001b[0m\u001b[0;34m,\u001b[0m \u001b[0mexpanded_target\u001b[0m \u001b[0;34m=\u001b[0m \u001b[0mtorch\u001b[0m\u001b[0;34m.\u001b[0m\u001b[0mbroadcast_tensors\u001b[0m\u001b[0;34m(\u001b[0m\u001b[0minput\u001b[0m\u001b[0;34m,\u001b[0m \u001b[0mtarget\u001b[0m\u001b[0;34m)\u001b[0m\u001b[0;34m\u001b[0m\u001b[0;34m\u001b[0m\u001b[0m\n\u001b[0;32m-> 2204\u001b[0;31m         \u001b[0mret\u001b[0m \u001b[0;34m=\u001b[0m \u001b[0mtorch\u001b[0m\u001b[0;34m.\u001b[0m\u001b[0m_C\u001b[0m\u001b[0;34m.\u001b[0m\u001b[0m_nn\u001b[0m\u001b[0;34m.\u001b[0m\u001b[0mmse_loss\u001b[0m\u001b[0;34m(\u001b[0m\u001b[0mexpanded_input\u001b[0m\u001b[0;34m,\u001b[0m \u001b[0mexpanded_target\u001b[0m\u001b[0;34m,\u001b[0m \u001b[0m_Reduction\u001b[0m\u001b[0;34m.\u001b[0m\u001b[0mget_enum\u001b[0m\u001b[0;34m(\u001b[0m\u001b[0mreduction\u001b[0m\u001b[0;34m)\u001b[0m\u001b[0;34m)\u001b[0m\u001b[0;34m\u001b[0m\u001b[0;34m\u001b[0m\u001b[0m\n\u001b[0m\u001b[1;32m   2205\u001b[0m     \u001b[0;32mreturn\u001b[0m \u001b[0mret\u001b[0m\u001b[0;34m\u001b[0m\u001b[0;34m\u001b[0m\u001b[0m\n\u001b[1;32m   2206\u001b[0m \u001b[0;34m\u001b[0m\u001b[0m\n",
      "\u001b[0;31mKeyboardInterrupt\u001b[0m: "
     ]
    }
   ],
   "source": [
    "train_dir = \"/home/mj/HardDisk/Github/Image_Restorer/Dataset/DIV2K_train_HR\"\n",
    "valid_dir = \"/home/mj/HardDisk/Github/Image_Restorer/Dataset/DIV2K_valid_HR\"\n",
    "outputs_dir = \"../Model\"\n",
    "batch_size = 8\n",
    "threads = 4\n",
    "lr = 5e-4\n",
    "num_epochs = 100\n",
    "patch_size = 128\n",
    "jpeg_quality = 10\n",
    "use_augmentation = True\n",
    "use_fast_loader = False\n",
    "\n",
    "\n",
    "model = My_Model()\n",
    "\n",
    "model = model.to(device)\n",
    "criterion = nn.MSELoss(reduction='sum')\n",
    "\n",
    "optimizer = optim.Adam(model.parameters(), lr=lr)\n",
    "\n",
    "train_dataset = Dataset(train_dir, patch_size, jpeg_quality, use_augmentation, use_fast_loader)\n",
    "dataloader_train = DataLoader(dataset=train_dataset, batch_size=batch_size, shuffle=True,\n",
    "                        num_workers=threads, pin_memory=True, drop_last=True)\n",
    "\n",
    "valid_dataset = Dataset(valid_dir, patch_size, jpeg_quality, use_augmentation, use_fast_loader)\n",
    "dataloader_valid = DataLoader(dataset=valid_dataset, batch_size=batch_size, shuffle=True,\n",
    "                        num_workers=threads, pin_memory=True, drop_last=True)\n",
    "\n",
    "writer = SummaryWriter(\"../log\")\n",
    "\n",
    "for epoch in range(num_epochs):\n",
    "    train_losses = AverageMeter()\n",
    "    valid_losses = AverageMeter()\n",
    "    target_losses = AverageMeter()\n",
    "    \n",
    "    n_batchs = (len(train_dataset) - len(train_dataset) % batch_size)\n",
    "    i = 0\n",
    "    with tqdm(total=n_batchs) as _tqdm:\n",
    "        _tqdm.set_description('epoch: {}/{}'.format(epoch + 1, num_epochs))\n",
    "        for data in dataloader_train:\n",
    "            inputs, labels = data[0].to(device), data[1].to(device)\n",
    "\n",
    "            preds = model(inputs)\n",
    "\n",
    "            loss = criterion(preds, labels)\n",
    "            target = criterion(inputs, labels)\n",
    "            train_losses.update(loss.item(), len(inputs))\n",
    "            target_losses.update(target.item(), len(inputs))\n",
    "            \n",
    "            optimizer.zero_grad()\n",
    "            loss.backward()\n",
    "            optimizer.step()\n",
    "\n",
    "            _tqdm.set_postfix(loss='{:.6f}, target{:.6f}'.format(train_losses.avg, target_losses.avg))\n",
    "            _tqdm.update(len(inputs))\n",
    "            \n",
    "            ###\n",
    "            writer.add_scalar('Train//Loss', train_losses.avg, epoch*n_batchs + i)\n",
    "            writer.flush()\n",
    "            i += 1\n",
    "            ###\n",
    "            \n",
    "        \n",
    "        for data in dataloader_valid:\n",
    "            inputs, labels = data[0].to(device), data[1].to(device)\n",
    "            \n",
    "            preds = model(inputs)\n",
    "            \n",
    "            loss = criterion(preds, labels)\n",
    "            valid_losses.update(loss.item(), len(inputs))\n",
    "            \n",
    "\n",
    "    ###\n",
    "    writer.add_scalar('Valid//Loss', valid_losses.avg, epoch)\n",
    "    writer.flush()\n",
    "    ###\n",
    "    \n",
    "    torch.save(model.state_dict(), os.path.join(outputs_dir, 'My_Model_epoch_{}.pth'.format(epoch)))\n",
    "    \n",
    "    if((epoch+1)%20):\n",
    "        optimizer = optim.Adam(model.parameters(), lr=0.5*lr)\n",
    "\n",
    "writer.close()"
   ]
  },
  {
   "cell_type": "code",
   "execution_count": null,
   "metadata": {},
   "outputs": [],
   "source": []
  },
  {
   "cell_type": "code",
   "execution_count": null,
   "metadata": {},
   "outputs": [],
   "source": [
    "import matplotlib.pyplot as plt\n",
    "import torchvision"
   ]
  },
  {
   "cell_type": "code",
   "execution_count": null,
   "metadata": {
    "scrolled": false
   },
   "outputs": [],
   "source": [
    "patch_size = 640\n",
    "\n",
    "test_dir = \"/home/mj/HardDisk/Github/Image_Compressor/Dataset/DIV2K_valid_HR\"\n",
    "test_dataset = Dataset(images_dir, patch_size, jpeg_quality, False, use_fast_loader)\n",
    "test_dataloader = DataLoader(dataset=test_dataset,\n",
    "                        batch_size=1,\n",
    "                        shuffle=True,\n",
    "                        num_workers=1,\n",
    "                        pin_memory=True,\n",
    "                        drop_last=True)\n",
    "device = torch.device(\"cuda:0\" if torch.cuda.is_available() else \"cpu\")\n",
    "for data in test_dataloader:\n",
    "    inputs, labels = data\n",
    "    inputs = inputs.to(device)\n",
    "    labels = labels.to(device)\n",
    "    \n",
    "    preds = model(inputs)\n",
    "    \n",
    "#     print((inputs*255).type(torch.cuda.ByteTensor))\n",
    "#     print((labels*255).type(torch.cuda.ByteTensor))\n",
    "#     print((preds*255).type(torch.cuda.ByteTensor))\n",
    "\n",
    "# torchvision.utils.make_grid(images, nrow=5).permute(1, 2, 0)\n",
    "\n",
    "    inputs = (inputs*255).cpu().type(torch.ByteTensor)\n",
    "    labels = (labels*255).cpu().type(torch.ByteTensor)\n",
    "    preds = (preds*255).cpu().type(torch.ByteTensor)\n",
    "    \n",
    "    plt.figure(figsize=(15, 15));\n",
    "    plt.subplot(131);plt.imshow(torchvision.utils.make_grid(inputs,nrow=1).permute(1, 2, 0));plt.title(\"JPG\");plt.xticks([]);plt.yticks([]);\n",
    "    plt.subplot(132);plt.imshow(torchvision.utils.make_grid(labels,nrow=1).permute(1, 2, 0));plt.title(\"Ori\");plt.xticks([]);plt.yticks([]);\n",
    "    plt.subplot(133);plt.imshow(torchvision.utils.make_grid(preds,nrow=1).permute(1, 2, 0));plt.title(\"Fixed\");plt.xticks([]);plt.yticks([]);\n",
    "    plt.show()\n",
    "    \n",
    "    break"
   ]
  },
  {
   "cell_type": "code",
   "execution_count": null,
   "metadata": {},
   "outputs": [],
   "source": []
  },
  {
   "cell_type": "code",
   "execution_count": null,
   "metadata": {},
   "outputs": [],
   "source": []
  },
  {
   "cell_type": "code",
   "execution_count": null,
   "metadata": {},
   "outputs": [],
   "source": []
  }
 ],
 "metadata": {
  "kernelspec": {
   "display_name": "Python 3",
   "language": "python",
   "name": "python3"
  },
  "language_info": {
   "codemirror_mode": {
    "name": "ipython",
    "version": 3
   },
   "file_extension": ".py",
   "mimetype": "text/x-python",
   "name": "python",
   "nbconvert_exporter": "python",
   "pygments_lexer": "ipython3",
   "version": "3.6.9"
  }
 },
 "nbformat": 4,
 "nbformat_minor": 2
}
