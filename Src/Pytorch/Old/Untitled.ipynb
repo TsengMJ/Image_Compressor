{
 "cells": [
  {
   "cell_type": "code",
   "execution_count": 1,
   "metadata": {},
   "outputs": [],
   "source": [
    "import cv2\n",
    "import os"
   ]
  },
  {
   "cell_type": "code",
   "execution_count": 2,
   "metadata": {
    "scrolled": true
   },
   "outputs": [],
   "source": [
    "train_path = \"/home/mj/HardDisk/Github/Image_Compressor/Dataset/Training_Data\"\n",
    "\n",
    "os.chdir(\"{}/Original\".format(train_path))\n",
    "files = os.listdir()\n",
    "\n",
    "for file in files:\n",
    "    img = cv2.imread(file,0)\n",
    "\n",
    "    cv2.imwrite(\"../JPG/{}.jpg\".format(file.split('.')[0]), img)"
   ]
  },
  {
   "cell_type": "code",
   "execution_count": 3,
   "metadata": {},
   "outputs": [],
   "source": [
    "valid_path = \"/home/mj/HardDisk/Github/Image_Compressor/Dataset/Validation_Data\"\n",
    "\n",
    "os.chdir(\"{}/Original\".format(valid_path))\n",
    "files = os.listdir()\n",
    "\n",
    "for file in files:\n",
    "    img = cv2.imread(file,0)\n",
    "\n",
    "    cv2.imwrite(\"../JPG/{}.jpg\".format(file.split('.')[0]), img)"
   ]
  },
  {
   "cell_type": "code",
   "execution_count": null,
   "metadata": {},
   "outputs": [],
   "source": []
  },
  {
   "cell_type": "code",
   "execution_count": 19,
   "metadata": {},
   "outputs": [
    {
     "name": "stdout",
     "output_type": "stream",
     "text": [
      "[[212 212 211 ... 179 183 188]\n",
      " [215 214 214 ... 178 181 185]\n",
      " [203 202 205 ... 176 181 182]\n",
      " ...\n",
      " [ 29  29  30 ... 130 128 132]\n",
      " [ 41  41  38 ... 132 132 135]\n",
      " [ 51  51  50 ... 130 134 135]]\n",
      "[[212 212 211 ... 179 183 188]\n",
      " [215 214 214 ... 178 181 185]\n",
      " [203 202 205 ... 176 181 182]\n",
      " ...\n",
      " [ 29  29  30 ... 130 128 132]\n",
      " [ 41  41  38 ... 132 132 135]\n",
      " [ 51  51  50 ... 130 134 135]]\n"
     ]
    }
   ],
   "source": [
    "dcp = cv2.imread(\"/home/mj/HardDisk/Github/Image_Compressor/Dataset/Validation_Data/Original_pgm/00238713.pgm\", 0)\n",
    "ori = cv2.imread(\"/home/mj/HardDisk/Github/Image_Compressor/Dataset/Validation_Data/Original/00238713.png\", 0)\n",
    "\n",
    "print(dcp)\n",
    "print(ori)\n",
    "\n",
    "# cv2.imshow(\"DEP\", dcp)\n",
    "# cv2.imshow(\"ORI\", ori)\n",
    "\n",
    "# cv2.waitKey(0)\n",
    "# cv2.destroyAllWindows()"
   ]
  },
  {
   "cell_type": "code",
   "execution_count": 1,
   "metadata": {},
   "outputs": [
    {
     "data": {
      "text/plain": [
       "['123', '456']"
      ]
     },
     "execution_count": 1,
     "metadata": {},
     "output_type": "execute_result"
    }
   ],
   "source": [
    "a = \"123.456\"\n",
    "\n",
    "a.split(\".\")"
   ]
  },
  {
   "cell_type": "code",
   "execution_count": null,
   "metadata": {},
   "outputs": [],
   "source": []
  }
 ],
 "metadata": {
  "kernelspec": {
   "display_name": "Python 3",
   "language": "python",
   "name": "python3"
  },
  "language_info": {
   "codemirror_mode": {
    "name": "ipython",
    "version": 3
   },
   "file_extension": ".py",
   "mimetype": "text/x-python",
   "name": "python",
   "nbconvert_exporter": "python",
   "pygments_lexer": "ipython3",
   "version": "3.6.9"
  }
 },
 "nbformat": 4,
 "nbformat_minor": 2
}
