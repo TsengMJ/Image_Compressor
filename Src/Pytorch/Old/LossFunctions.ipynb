{
 "cells": [
  {
   "cell_type": "markdown",
   "metadata": {},
   "source": [
    "## 自定義的對抗損失"
   ]
  },
  {
   "cell_type": "code",
   "execution_count": null,
   "metadata": {},
   "outputs": [],
   "source": [
    "def ADVLoss(ori_pred, gen_pred):\n",
    "    OO_value = torch.mean(ori_pred)\n",
    "    GO_value = torch.mean(gen_pred)\n",
    "    GG_value = 1 - GO_value\n",
    "\n",
    "    loss_ADV_G = -1*torch.log(GO_value)\n",
    "    loss_ADV_D = -1*(torch.log(OO_value) + torch.log(GG_value))\n",
    "    return loss_ADV_G, loss_ADV_D"
   ]
  },
  {
   "cell_type": "markdown",
   "metadata": {},
   "source": [
    "## 無限 Norm 的損失"
   ]
  },
  {
   "cell_type": "code",
   "execution_count": null,
   "metadata": {},
   "outputs": [],
   "source": [
    "def IFNLoss(img_gen, img_ori):\n",
    "    pass"
   ]
  }
 ],
 "metadata": {
  "kernelspec": {
   "display_name": "Python 3",
   "language": "python",
   "name": "python3"
  },
  "language_info": {
   "codemirror_mode": {
    "name": "ipython",
    "version": 3
   },
   "file_extension": ".py",
   "mimetype": "text/x-python",
   "name": "python",
   "nbconvert_exporter": "python",
   "pygments_lexer": "ipython3",
   "version": "3.6.9"
  }
 },
 "nbformat": 4,
 "nbformat_minor": 2
}
