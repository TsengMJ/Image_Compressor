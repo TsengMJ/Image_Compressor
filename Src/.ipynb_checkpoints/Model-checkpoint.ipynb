{
 "cells": [
  {
   "cell_type": "code",
   "execution_count": null,
   "metadata": {},
   "outputs": [],
   "source": [
    "from torch import nn"
   ]
  },
  {
   "cell_type": "markdown",
   "metadata": {},
   "source": [
    "## ARCNN"
   ]
  },
  {
   "cell_type": "code",
   "execution_count": null,
   "metadata": {},
   "outputs": [],
   "source": [
    "class ARCNN(nn.Module):\n",
    "    def __init__(self):\n",
    "        super(ARCNN, self).__init__()\n",
    "        self.base = nn.Sequential(\n",
    "            nn.Conv2d(3, 128, kernel_size=3, padding=1),\n",
    "            nn.Conv2d(128, 128, kernel_size=1),\n",
    "            nn.PReLU(),\n",
    "            \n",
    "            nn.Conv2d(128, 128, kernel_size=3, padding=1),\n",
    "            nn.PReLU(),\n",
    "            \n",
    "            nn.Conv2d(128, 64, kernel_size=3, padding=1),\n",
    "            nn.Conv2d(64, 64, kernel_size=1),\n",
    "            nn.PReLU(),\n",
    "            \n",
    "            nn.Conv2d(64, 64, kernel_size=3, padding=1),\n",
    "            nn.PReLU(),\n",
    "            \n",
    "            nn.Conv2d(64, 32, kernel_size=3, padding=1),\n",
    "            nn.Conv2d(32, 32, kernel_size=1),\n",
    "            nn.PReLU(),\n",
    "            \n",
    "            nn.Conv2d(32, 32, kernel_size=3, padding=1),\n",
    "            nn.PReLU(),\n",
    "            \n",
    "            nn.Conv2d(32, 16, kernel_size=1),\n",
    "            nn.PReLU()\n",
    "        )\n",
    "        self.last = nn.Conv2d(16, 3, kernel_size=5, padding=1)\n",
    "\n",
    "        self._initialize_weights()\n",
    "\n",
    "    def _initialize_weights(self):\n",
    "        for m in self.modules():\n",
    "            if isinstance(m, nn.Conv2d):\n",
    "                nn.init.normal_(m.weight, std=0.001)\n",
    "\n",
    "    def forward(self, x):\n",
    "        x = self.base(x)\n",
    "        x = self.last(x)\n",
    "        return x\n"
   ]
  },
  {
   "cell_type": "markdown",
   "metadata": {},
   "source": [
    "## Fast-ARCNN"
   ]
  },
  {
   "cell_type": "code",
   "execution_count": null,
   "metadata": {},
   "outputs": [],
   "source": [
    "class FastARCNN(nn.Module):\n",
    "    def __init__(self):\n",
    "        super(FastARCNN, self).__init__()\n",
    "        self.base = nn.Sequential(\n",
    "            nn.Conv2d(3, 64, kernel_size=9, stride=2, padding=4),\n",
    "            nn.PReLU(),\n",
    "            nn.Conv2d(64, 32, kernel_size=1),\n",
    "            nn.PReLU(),\n",
    "            nn.Conv2d(32, 32, kernel_size=7, padding=3),\n",
    "            nn.PReLU(),\n",
    "            nn.Conv2d(32, 64, kernel_size=1),\n",
    "            nn.PReLU()\n",
    "        )\n",
    "        self.last = nn.ConvTranspose2d(64, 3, kernel_size=9, stride=2, padding=4, output_padding=1)\n",
    "\n",
    "        self._initialize_weights()\n",
    "\n",
    "    def _initialize_weights(self):\n",
    "        for m in self.modules():\n",
    "            if isinstance(m, nn.Conv2d):\n",
    "                nn.init.normal_(m.weight, std=0.001)\n",
    "\n",
    "    def forward(self, x):\n",
    "        x = self.base(x)\n",
    "        x = self.last(x)\n",
    "        return x"
   ]
  }
 ],
 "metadata": {
  "kernelspec": {
   "display_name": "Python 3",
   "language": "python",
   "name": "python3"
  },
  "language_info": {
   "codemirror_mode": {
    "name": "ipython",
    "version": 3
   },
   "file_extension": ".py",
   "mimetype": "text/x-python",
   "name": "python",
   "nbconvert_exporter": "python",
   "pygments_lexer": "ipython3",
   "version": "3.6.9"
  }
 },
 "nbformat": 4,
 "nbformat_minor": 2
}
