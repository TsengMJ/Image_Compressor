{
 "cells": [
  {
   "cell_type": "code",
   "execution_count": 1,
   "metadata": {},
   "outputs": [],
   "source": [
    "import tensorflow as tf\n",
    "from tensorflow import keras"
   ]
  },
  {
   "cell_type": "code",
   "execution_count": null,
   "metadata": {},
   "outputs": [],
   "source": []
  },
  {
   "cell_type": "markdown",
   "metadata": {},
   "source": [
    "## Layers Declaration"
   ]
  },
  {
   "cell_type": "code",
   "execution_count": 6,
   "metadata": {},
   "outputs": [],
   "source": [
    "def Input(shape=(64,64,3,)):\n",
    "    return keras.Input(shape=shape)"
   ]
  },
  {
   "cell_type": "code",
   "execution_count": 1,
   "metadata": {},
   "outputs": [],
   "source": [
    "def Conv2D(x,filters=64, kernel_size=(3,3), strides=(1,1), padding=\"same\", input_shape=None):\n",
    "    if (not input_shape == None):\n",
    "        return keras.layers.Conv2D(filters=filters, kernel_size=kernel_size, strides=strides, padding=padding, input_shape=input_shape)(x)\n",
    "    else:\n",
    "        return keras.layers.Conv2D(filters=filters, kernel_size=kernel_size, strides=strides, padding=padding)(x)"
   ]
  },
  {
   "cell_type": "code",
   "execution_count": 3,
   "metadata": {},
   "outputs": [],
   "source": [
    "def Relu(x):\n",
    "    return keras.layers.ReLU()(x)"
   ]
  },
  {
   "cell_type": "code",
   "execution_count": 4,
   "metadata": {},
   "outputs": [],
   "source": [
    "def LRelu(x, alpha=0.2):\n",
    "    return keras.layers.LeakyReLU(alpha=alpha)(x)"
   ]
  },
  {
   "cell_type": "code",
   "execution_count": 5,
   "metadata": {},
   "outputs": [],
   "source": [
    "def BN(x):\n",
    "    return keras.layers.BatchNormalization()(x)"
   ]
  },
  {
   "cell_type": "code",
   "execution_count": 6,
   "metadata": {},
   "outputs": [],
   "source": [
    "def Sum(x1, x2):\n",
    "    return keras.layers.Add()([x1,x2])"
   ]
  },
  {
   "cell_type": "code",
   "execution_count": 7,
   "metadata": {},
   "outputs": [],
   "source": [
    "def Flatten(x):\n",
    "    return keras.layers.Flatten()(x)"
   ]
  },
  {
   "cell_type": "code",
   "execution_count": 7,
   "metadata": {},
   "outputs": [],
   "source": [
    "def Dense(x, units):\n",
    "    return keras.layers.Dense(units=units)(x)"
   ]
  },
  {
   "cell_type": "code",
   "execution_count": 9,
   "metadata": {},
   "outputs": [],
   "source": [
    "def Sigmoid(x):\n",
    "    return keras.activations.sigmoid(x)"
   ]
  },
  {
   "cell_type": "code",
   "execution_count": 10,
   "metadata": {},
   "outputs": [],
   "source": [
    "def Tanh(x):\n",
    "    return keras.activations.tanh(x)"
   ]
  },
  {
   "cell_type": "code",
   "execution_count": 15,
   "metadata": {},
   "outputs": [],
   "source": [
    "def Model(inputs, outputs):\n",
    "    return keras.Model(inputs=inputs, outputs=outputs)"
   ]
  },
  {
   "cell_type": "code",
   "execution_count": 19,
   "metadata": {},
   "outputs": [],
   "source": [
    "def Residual_Unit_GN(x):\n",
    "    x1 = Conv2D(x)\n",
    "    x1 = BN(x1)\n",
    "    x1 = Relu(x1)\n",
    "    x1 = Conv2D(x1)\n",
    "    x1 = BN(x1)\n",
    "    x1 = Sum(x1, x)\n",
    "    \n",
    "    return x1"
   ]
  },
  {
   "cell_type": "code",
   "execution_count": 17,
   "metadata": {},
   "outputs": [],
   "source": [
    "def Conv_Unit(x, filters=64, kernel_size=(3,3), strides_1=(1,1), strides_2=(1,1), padding=\"same\"):\n",
    "    x = Conv2D(x, filters=filters, strides=strides_1)\n",
    "    x = BN(x)\n",
    "    x = LRelu(x)\n",
    "    x = Conv2D(x, filters=filters, strides=strides_2)\n",
    "    x = BN(x)\n",
    "    x = LRelu(x)\n",
    "    \n",
    "    return x"
   ]
  },
  {
   "cell_type": "code",
   "execution_count": 13,
   "metadata": {},
   "outputs": [],
   "source": [
    "def Residual_Unit_DN(x):\n",
    "    x1 = Conv2D(x, filters=512)\n",
    "    x1 = BN(x1)\n",
    "    x1 = LRelu(x1)\n",
    "    x1 = Conv2D(x1, filters=512)\n",
    "    x1 = BN(x1)\n",
    "    x1 = Sum(x1, x)\n",
    "    \n",
    "    return x1"
   ]
  },
  {
   "cell_type": "markdown",
   "metadata": {},
   "source": [
    "## Training - Generative Network"
   ]
  },
  {
   "cell_type": "code",
   "execution_count": 4,
   "metadata": {},
   "outputs": [],
   "source": [
    "def Get_GN_train():\n",
    "    x_in = Input(shape=(64,64,3,))\n",
    "    x = Conv2D(x_in)\n",
    "    x = Relu(x)\n",
    "    x1 = Residual_Unit_GN(x)\n",
    "    for _ in range(15):\n",
    "        x1 = Residual_Unit_GN(x1)\n",
    "    x1 = Conv2D(x1)\n",
    "    x1 = BN(x1)\n",
    "    x1 = Sum(x1, x)\n",
    "    x1 = Conv2D(x1, filters=3)\n",
    "    y = Tanh(x1)\n",
    "    \n",
    "    model = Model(x_in,y)\n",
    "    return model"
   ]
  },
  {
   "cell_type": "markdown",
   "metadata": {},
   "source": [
    "## Training - Discriminative Network"
   ]
  },
  {
   "cell_type": "code",
   "execution_count": 18,
   "metadata": {},
   "outputs": [],
   "source": [
    "def Get_DN_train():\n",
    "    x_in = Input(shape=(64,64,3,))\n",
    "    x = Conv2D(x_in, filters=32)\n",
    "    x = LRelu(x)\n",
    "    x = Conv_Unit(x, filters=64, strides_1=(1,1), strides_2=(2,2))\n",
    "    x = Conv_Unit(x, filters=128, strides_1=(1,1), strides_2=(1,1))\n",
    "    x = Conv_Unit(x, filters=128, strides_1=(1,1), strides_2=(2,2))\n",
    "    x = Conv_Unit(x, filters=256, strides_1=(1,1), strides_2=(1,1))\n",
    "    x = Conv_Unit(x, filters=256, strides_1=(1,1), strides_2=(2,2))\n",
    "    x = Conv_Unit(x, filters=512, strides_1=(1,1), strides_2=(2,2))\n",
    "    x = Residual_Unit_DN(x)\n",
    "    x = LRelu(x)\n",
    "    x = Flatten(x)\n",
    "    x = Dense(x,1)\n",
    "    y = Sigmoid(x)\n",
    "    \n",
    "    model = Model(x_in,y)\n",
    "    return model"
   ]
  },
  {
   "cell_type": "code",
   "execution_count": null,
   "metadata": {},
   "outputs": [],
   "source": []
  },
  {
   "cell_type": "markdown",
   "metadata": {},
   "source": [
    "## Testing - Generative Network"
   ]
  },
  {
   "cell_type": "code",
   "execution_count": null,
   "metadata": {},
   "outputs": [],
   "source": [
    "# 之後寫 because 還不確定\n",
    "\n",
    "def DN_test():\n",
    "    pass"
   ]
  },
  {
   "cell_type": "code",
   "execution_count": null,
   "metadata": {},
   "outputs": [],
   "source": []
  }
 ],
 "metadata": {
  "kernelspec": {
   "display_name": "Python 3",
   "language": "python",
   "name": "python3"
  },
  "language_info": {
   "codemirror_mode": {
    "name": "ipython",
    "version": 3
   },
   "file_extension": ".py",
   "mimetype": "text/x-python",
   "name": "python",
   "nbconvert_exporter": "python",
   "pygments_lexer": "ipython3",
   "version": "3.6.9"
  }
 },
 "nbformat": 4,
 "nbformat_minor": 2
}
