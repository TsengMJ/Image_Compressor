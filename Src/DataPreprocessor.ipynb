{
 "cells": [
  {
   "cell_type": "code",
   "execution_count": 1,
   "metadata": {},
   "outputs": [],
   "source": [
    "import os\n",
    "import cv2"
   ]
  },
  {
   "cell_type": "code",
   "execution_count": null,
   "metadata": {},
   "outputs": [],
   "source": []
  },
  {
   "cell_type": "markdown",
   "metadata": {},
   "source": [
    "## 切割大影像 to 64x64"
   ]
  },
  {
   "cell_type": "code",
   "execution_count": 12,
   "metadata": {},
   "outputs": [],
   "source": [
    "## Training Data\n",
    "os.chdir(\"/home/mj/HardDisk/Github/Image_Compressor/Dataset/DIV2K_train_HR\")\n",
    "\n",
    "images = os.listdir()\n",
    "images.sort()\n",
    "\n",
    "num = 0\n",
    "for image in images:\n",
    "    img = cv2.imread(image)\n",
    "    h, w = img.shape[:2]\n",
    "    \n",
    "    for i in range(0, h-64, 32):\n",
    "        for j in range(0, w-64, 32):\n",
    "            tmp = img[i:i+64, j:j+64]\n",
    "            cv2.imwrite(\"../Train_data/{:08d}.png\".format(num), tmp)\n",
    "            num = num+1"
   ]
  },
  {
   "cell_type": "code",
   "execution_count": null,
   "metadata": {},
   "outputs": [],
   "source": []
  },
  {
   "cell_type": "code",
   "execution_count": 13,
   "metadata": {},
   "outputs": [],
   "source": [
    "## Validation Data\n",
    "os.chdir(\"/home/mj/HardDisk/Github/Image_Compressor/Dataset/DIV2K_train_HR\")\n",
    "\n",
    "images = os.listdir()\n",
    "images.sort()\n",
    "\n",
    "num = 0\n",
    "for image in images:\n",
    "    img = cv2.imread(image)\n",
    "    h, w = img.shape[:2]\n",
    "    \n",
    "    for i in range(0, h-64, 32):\n",
    "        for j in range(0, w-64, 32):\n",
    "            tmp = img[i:i+64, j:j+64]\n",
    "            cv2.imwrite(\"../Valid_data/{:08d}.png\".format(num), tmp)\n",
    "            num = num+1"
   ]
  },
  {
   "cell_type": "code",
   "execution_count": null,
   "metadata": {},
   "outputs": [],
   "source": []
  }
 ],
 "metadata": {
  "kernelspec": {
   "display_name": "Python 3",
   "language": "python",
   "name": "python3"
  },
  "language_info": {
   "codemirror_mode": {
    "name": "ipython",
    "version": 3
   },
   "file_extension": ".py",
   "mimetype": "text/x-python",
   "name": "python",
   "nbconvert_exporter": "python",
   "pygments_lexer": "ipython3",
   "version": "3.6.9"
  }
 },
 "nbformat": 4,
 "nbformat_minor": 2
}
