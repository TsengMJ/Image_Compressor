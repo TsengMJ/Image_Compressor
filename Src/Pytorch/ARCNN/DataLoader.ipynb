{
 "cells": [
  {
   "cell_type": "code",
   "execution_count": null,
   "metadata": {},
   "outputs": [],
   "source": [
    "import os\n",
    "os.environ['TF_CPP_MIN_LOG_LEVEL'] = '3'\n",
    "\n",
    "import random\n",
    "import glob\n",
    "import io\n",
    "import numpy as np\n",
    "import PIL.Image as pil_image\n",
    "\n",
    "import tensorflow as tf\n",
    "config = tf.ConfigProto()\n",
    "config.gpu_options.allow_growth = True\n",
    "tf.enable_eager_execution(config=config)"
   ]
  },
  {
   "cell_type": "code",
   "execution_count": null,
   "metadata": {},
   "outputs": [],
   "source": []
  },
  {
   "cell_type": "code",
   "execution_count": null,
   "metadata": {},
   "outputs": [],
   "source": [
    "class Dataset(object):\n",
    "    def __init__(self, images_dir, patch_size, jpeg_quality, use_augmentation=False, use_fast_loader=False):\n",
    "        self.image_files = sorted(glob.glob(images_dir + '/*'))\n",
    "        self.patch_size = patch_size\n",
    "        self.jpeg_quality = jpeg_quality\n",
    "        self.use_augmentation = use_augmentation\n",
    "        self.use_fast_loader = use_fast_loader\n",
    "\n",
    "    def __getitem__(self, idx):\n",
    "        if self.use_fast_loader:\n",
    "            label = tf.read_file(self.image_files[idx])\n",
    "            label = tf.image.decode_jpeg(label, channels=3)\n",
    "            label = pil_image.fromarray(label.numpy())\n",
    "        else:\n",
    "            label = pil_image.open(self.image_files[idx]).convert('RGB')\n",
    "\n",
    "        if self.use_augmentation:\n",
    "            # randomly rescale image\n",
    "            if random.random() <= 0.5:\n",
    "                scale = random.choice([0.9, 0.8, 0.7, 0.6])\n",
    "                label = label.resize((int(label.width * scale), int(label.height * scale)), resample=pil_image.BICUBIC)\n",
    "\n",
    "            # randomly rotate image\n",
    "            if random.random() <= 0.5:\n",
    "                label = label.rotate(random.choice([90, 180, 270]), expand=True)\n",
    "                \n",
    "\n",
    "        # randomly crop patch from training set\n",
    "#         crop_x = random.randint(0, label.width - self.patch_size)\n",
    "#         crop_y = random.randint(0, label.height - self.patch_size)\n",
    "#         label = label.crop((crop_x, crop_y, crop_x + self.patch_size, crop_y + self.patch_size))\n",
    "\n",
    "        # additive jpeg noise\n",
    "        buffer = io.BytesIO()\n",
    "        label.save(buffer, format='jpeg', quality=self.jpeg_quality)\n",
    "        input = pil_image.open(buffer)\n",
    "\n",
    "        input = np.array(input).astype(np.float32)\n",
    "        label = np.array(label).astype(np.float32)\n",
    "        input = np.transpose(input, axes=[2, 0, 1])\n",
    "        label = np.transpose(label, axes=[2, 0, 1])\n",
    "\n",
    "        # normalization\n",
    "        input /= 255.0\n",
    "        label /= 255.0\n",
    "\n",
    "        return input, label\n",
    "\n",
    "    def __len__(self):\n",
    "        return len(self.image_files)"
   ]
  },
  {
   "cell_type": "code",
   "execution_count": null,
   "metadata": {},
   "outputs": [],
   "source": []
  },
  {
   "cell_type": "code",
   "execution_count": null,
   "metadata": {},
   "outputs": [],
   "source": [
    "class AverageMeter(object):\n",
    "    def __init__(self):\n",
    "        self.reset()\n",
    "\n",
    "    def reset(self):\n",
    "        self.val = 0\n",
    "        self.avg = 0\n",
    "        self.sum = 0\n",
    "        self.count = 0\n",
    "\n",
    "    def update(self, val, n=1):\n",
    "        self.val = val\n",
    "        self.sum += val * n\n",
    "        self.count += n\n",
    "        self.avg = self.sum / self.count"
   ]
  }
 ],
 "metadata": {
  "kernelspec": {
   "display_name": "Python 3",
   "language": "python",
   "name": "python3"
  },
  "language_info": {
   "codemirror_mode": {
    "name": "ipython",
    "version": 3
   },
   "file_extension": ".py",
   "mimetype": "text/x-python",
   "name": "python",
   "nbconvert_exporter": "python",
   "pygments_lexer": "ipython3",
   "version": "3.6.9"
  }
 },
 "nbformat": 4,
 "nbformat_minor": 2
}
