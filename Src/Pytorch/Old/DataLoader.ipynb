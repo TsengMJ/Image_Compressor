{
 "cells": [
  {
   "cell_type": "markdown",
   "metadata": {},
   "source": [
    "## Data Loader"
   ]
  },
  {
   "cell_type": "code",
   "execution_count": null,
   "metadata": {},
   "outputs": [],
   "source": [
    "class Image(Dataset):\n",
    "\n",
    "    def __init__(self, root_dir):\n",
    "        self.dcp_dir = os.path.join(root_dir, \"JPG\")\n",
    "        self.ori_dir = os.path.join(root_dir, \"Original\")\n",
    "        self.file_names = os.listdir(self.dcp_dir)\n",
    "        \n",
    "    def __len__(self):\n",
    "        return len(self.file_names)\n",
    "\n",
    "    def __getitem__(self, idx):\n",
    "        if torch.is_tensor(idx):\n",
    "            idx = idx.tolist()\n",
    "        \n",
    "        file_name = self.file_names[idx].split(\".\")[0]\n",
    "        img_dcp_loc = os.path.join(self.dcp_dir, \"{}.jpg\".format(file_name))\n",
    "        img_ori_loc = os.path.join(self.ori_dir, \"{}.png\".format(file_name))\n",
    "        img_dcp = cv2.imread(img_dcp_loc, 0).reshape(1,64,64)\n",
    "        img_ori = cv2.imread(img_ori_loc, 0).reshape(1,64,64)\n",
    "        sample = {'Dcp': img_dcp, 'Ori': img_ori}\n",
    "        \n",
    "        return sample"
   ]
  },
  {
   "cell_type": "code",
   "execution_count": null,
   "metadata": {},
   "outputs": [],
   "source": [
    "def weights_init(m):\n",
    "    classname = m.__class__.__name__\n",
    "    if classname.find('Conv2d') != -1:\n",
    "        m.weight.data.normal_(0.0, 0.02)\n",
    "    elif classname.find('BatchNorm2d') != -1:\n",
    "        m.weight.data.normal_(1.0, 0.02)\n",
    "        m.bias.data.fill_(0)"
   ]
  }
 ],
 "metadata": {
  "kernelspec": {
   "display_name": "Python 3",
   "language": "python",
   "name": "python3"
  },
  "language_info": {
   "codemirror_mode": {
    "name": "ipython",
    "version": 3
   },
   "file_extension": ".py",
   "mimetype": "text/x-python",
   "name": "python",
   "nbconvert_exporter": "python",
   "pygments_lexer": "ipython3",
   "version": "3.6.9"
  }
 },
 "nbformat": 4,
 "nbformat_minor": 2
}
